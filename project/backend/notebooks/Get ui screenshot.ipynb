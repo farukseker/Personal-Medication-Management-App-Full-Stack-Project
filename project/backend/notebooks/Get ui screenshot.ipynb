{
 "cells": [
  {
   "cell_type": "markdown",
   "id": "b0a21224-86da-471a-8896-a1912c82803f",
   "metadata": {},
   "source": [
    "# Get screenshots from all pages\n",
    "## Get page frame\n"
   ]
  },
  {
   "cell_type": "code",
   "execution_count": 21,
   "id": "b88cc217-a4d2-42c1-a609-93b6534a8158",
   "metadata": {},
   "outputs": [],
   "source": [
    "from pathlib import Path\n",
    "import os \n",
    "PROJECT_DIR = Path(os.getcwd()).resolve().parent.parent\n",
    "\n",
    "def get_nuxt_routes(base_dir):\n",
    "    routes = []\n",
    "\n",
    "    for root, dirs, files in os.walk(base_dir):\n",
    "        for file in files:\n",
    "            if file.endswith(\".vue\"):\n",
    "                full_path = os.path.join(root, file)\n",
    "                rel_path = os.path.relpath(full_path, base_dir)\n",
    "                route = \"/\" + rel_path.replace(\"\\\\\", \"/\").replace(\".vue\", \"\")\n",
    "                \n",
    "                # index.vue dosyaları özel: \"/auth/index\" => \"/auth\"\n",
    "                if route.endswith(\"/index\"):\n",
    "                    route = route[:-6]\n",
    "                    if route == \"\":\n",
    "                        route = \"/\"  # ana sayfa\n",
    "                routes.append(route)\n",
    "    \n",
    "    return routes\n",
    "\n",
    "\n",
    "# Kendi dizinine göre ayarla\n",
    "pages_dir = PROJECT_DIR / 'frontend/pages/'\n",
    "routes = get_nuxt_routes(pages_dir)"
   ]
  },
  {
   "cell_type": "code",
   "execution_count": 25,
   "id": "3d8bc33a-1924-492f-9c7d-9233cd8534d3",
   "metadata": {},
   "outputs": [
    {
     "name": "stdin",
     "output_type": "stream",
     "text": [
      "Login yapıldıktan sonra Enter'a bas:  a\n"
     ]
    },
    {
     "name": "stdout",
     "output_type": "stream",
     "text": [
      "[✓] Saved screenshot: screenshots/2025-06-26_21-26/chart.png\n",
      "[✓] Saved screenshot: screenshots/2025-06-26_21-26/history.png\n",
      "[✓] Saved screenshot: screenshots/2025-06-26_21-26/home.png\n",
      "[✓] Saved screenshot: screenshots/2025-06-26_21-26/medications.png\n",
      "[✓] Saved screenshot: screenshots/2025-06-26_21-26/medicine.png\n",
      "[✓] Saved screenshot: screenshots/2025-06-26_21-26/new_counter.png\n",
      "[✓] Saved screenshot: screenshots/2025-06-26_21-26/settings_be_del.png\n",
      "[✓] Saved screenshot: screenshots/2025-06-26_21-26/login.png\n",
      "[✓] Saved screenshot: screenshots/2025-06-26_21-26/register.png\n",
      "[✓] Saved screenshot: screenshots/2025-06-26_21-26/medicine_clock.png\n",
      "[✓] Saved screenshot: screenshots/2025-06-26_21-26/medicine_dose.png\n",
      "[✓] Saved screenshot: screenshots/2025-06-26_21-26/medicine_name.png\n",
      "[✓] Saved screenshot: screenshots/2025-06-26_21-26/medicine_plan.png\n",
      "[✓] Saved screenshot: screenshots/2025-06-26_21-26/medicine_plan_form.png\n",
      "[✓] Saved screenshot: screenshots/2025-06-26_21-26/change_language.png\n",
      "[✓] Saved screenshot: screenshots/2025-06-26_21-26/change_password.png\n",
      "[✓] Saved screenshot: screenshots/2025-06-26_21-26/settings.png\n",
      "[✓] Saved screenshot: screenshots/2025-06-26_21-26/notification_settings.png\n",
      "[✓] Saved screenshot: screenshots/2025-06-26_21-26/add_weight.png\n",
      "[✓] Saved screenshot: screenshots/2025-06-26_21-26/counters.png\n",
      "[✓] Saved screenshot: screenshots/2025-06-26_21-26/medications.png\n",
      "[✓] Saved screenshot: screenshots/2025-06-26_21-26/water_tracking.png\n",
      "[✓] Saved screenshot: screenshots/2025-06-26_21-26/weight_tracking.png\n"
     ]
    }
   ],
   "source": [
    "from selenium import webdriver\n",
    "from selenium.webdriver.chrome.service import Service\n",
    "from webdriver_manager.chrome import ChromeDriverManager\n",
    "from selenium.webdriver.chrome.options import Options\n",
    "import time\n",
    "from datetime import datetime\n",
    "from urllib.parse import urlparse\n",
    "import os\n",
    "\n",
    "resolve_x, resolve_y = 412, 914 \n",
    "url_base = 'https://192.168.123.97:4080'\n",
    "url_list = routes\n",
    "\n",
    "\n",
    "# Headless tarayıcı ayarı (gerekirse yorum satırından çıkar)\n",
    "chrome_options = Options()\n",
    "# chrome_options.add_argument(\"--headless\")\n",
    "chrome_options.add_argument(f\"--window-size={resolve_x},{resolve_y}\")\n",
    "chrome_options.add_argument(\"--ignore-certificate-errors\")\n",
    "chrome_options.add_argument(\"--allow-insecure-localhost\")\n",
    "\n",
    "# Tarayıcı başlat\n",
    "driver = webdriver.Chrome(service=Service(ChromeDriverManager().install()), options=chrome_options)\n",
    "driver.get(url_base)\n",
    "# Giriş için beklet\n",
    "input(\"Login yapıldıktan sonra Enter'a bas: \")\n",
    "\n",
    "# Klasör ismi: tarih-saat (örnek: 2025-06-26_21-45)\n",
    "timestamp = datetime.now().strftime(\"%Y-%m-%d_%H-%M\")\n",
    "folder_path = f\"screenshots/{timestamp}\"\n",
    "os.makedirs(folder_path, exist_ok=True)\n",
    "\n",
    "# Sayfa sayfa gez ve ekran görüntüsü al\n",
    "for url in url_list:\n",
    "    try:\n",
    "        full_url = url_base + url\n",
    "        driver.get(full_url)\n",
    "        time.sleep(1)\n",
    "        # Sayfa yüklenmesini beklemek istersen: time.sleep(3) veya WebDriverWait\n",
    "\n",
    "        # Dosya ismini belirle\n",
    "        path = urlparse(url).path.rstrip('/').split('/')[-1]\n",
    "        if not path:\n",
    "            path = \"home\"\n",
    "\n",
    "        filename = f\"{folder_path}/{path}.png\"\n",
    "        driver.save_screenshot(filename)\n",
    "        print(f\"[✓] Saved screenshot: {filename}\")\n",
    "\n",
    "    except Exception as e:\n",
    "        print(f\"[!] Error while processing {url}: {e}\")\n",
    "\n",
    "driver.quit()\n"
   ]
  },
  {
   "cell_type": "code",
   "execution_count": 22,
   "id": "60331c14-bbfc-4fa9-b878-630ff17c0e35",
   "metadata": {},
   "outputs": [
    {
     "data": {
      "text/plain": [
       "['/chart',\n",
       " '/history',\n",
       " '/',\n",
       " '/medications',\n",
       " '/medicine',\n",
       " '/new_counter',\n",
       " '/settings_be_del',\n",
       " '/auth/login',\n",
       " '/auth/register',\n",
       " '/new_medicine/medicine_clock',\n",
       " '/new_medicine/medicine_dose',\n",
       " '/new_medicine/medicine_name',\n",
       " '/new_medicine/medicine_plan',\n",
       " '/new_medicine/medicine_plan_form',\n",
       " '/settings/change_language',\n",
       " '/settings/change_password',\n",
       " '/settings',\n",
       " '/settings/notification_settings',\n",
       " '/tab/add_weight',\n",
       " '/tab/counters',\n",
       " '/tab/medications',\n",
       " '/tab/water_tracking',\n",
       " '/tab/weight_tracking']"
      ]
     },
     "execution_count": 22,
     "metadata": {},
     "output_type": "execute_result"
    }
   ],
   "source": [
    "routes"
   ]
  },
  {
   "cell_type": "code",
   "execution_count": 17,
   "id": "b6b9dda2-0d35-4ef1-be24-7fbf53e4a2ac",
   "metadata": {},
   "outputs": [],
   "source": []
  },
  {
   "cell_type": "code",
   "execution_count": 18,
   "id": "6b2441f5-353e-487d-9217-609eb827cd60",
   "metadata": {},
   "outputs": [
    {
     "data": {
      "text/plain": [
       "WindowsPath('C:/Users/seker/Desktop/prod/uk_ile_savas/project/frontend/pages')"
      ]
     },
     "execution_count": 18,
     "metadata": {},
     "output_type": "execute_result"
    }
   ],
   "source": [
    "project_dir "
   ]
  },
  {
   "cell_type": "code",
   "execution_count": null,
   "id": "0c7af015-add4-4100-bdf3-f3bebc555aa7",
   "metadata": {},
   "outputs": [],
   "source": []
  }
 ],
 "metadata": {
  "kernelspec": {
   "display_name": "Python 3 (ipykernel)",
   "language": "python",
   "name": "python3"
  },
  "language_info": {
   "codemirror_mode": {
    "name": "ipython",
    "version": 3
   },
   "file_extension": ".py",
   "mimetype": "text/x-python",
   "name": "python",
   "nbconvert_exporter": "python",
   "pygments_lexer": "ipython3",
   "version": "3.12.5"
  }
 },
 "nbformat": 4,
 "nbformat_minor": 5
}
