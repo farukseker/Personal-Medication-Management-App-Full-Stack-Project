{
 "cells": [
  {
   "cell_type": "code",
   "execution_count": null,
   "id": "ff67ddf2-6391-4de0-8f74-d7194130af82",
   "metadata": {},
   "outputs": [],
   "source": [
    "# ipykarnel seçilecek (kayıtlı olması da gerekli)\n",
    "import django\n",
    "import os\n",
    "import sys\n",
    "os.chdir(os.path.abspath(\"..\"))\n",
    "sys.path.append(os.path.abspath(\"..\"))\n",
    "sys.path.append(os.path.abspath(\"../\"))\n",
    "# if not django.apps.apps.ready:\n",
    "os.environ.setdefault(\"DJANGO_SETTINGS_MODULE\", \"config.settings.develop\")\n",
    "os.environ['DJANGO_SETTINGS_MODULE'] = 'config.settings.develop'"
   ]
  },
  {
   "cell_type": "code",
   "execution_count": null,
   "id": "6527f5f8-6fc5-4054-9059-4997e083159b",
   "metadata": {
    "scrolled": true
   },
   "outputs": [],
   "source": [
    "django.setup()"
   ]
  },
  {
   "cell_type": "markdown",
   "id": "f9416fd7-c2d0-46ca-a5b5-b62a3f65d4da",
   "metadata": {},
   "source": [
    "---"
   ]
  },
  {
   "cell_type": "code",
   "execution_count": 1,
   "id": "1f5706dc-7c97-49c4-81f6-917daf2cd25c",
   "metadata": {},
   "outputs": [],
   "source": [
    "from api_client import AutoJWTClient"
   ]
  },
  {
   "cell_type": "code",
   "execution_count": 23,
   "id": "6198cf51-f6da-4bfc-8360-32173cca6298",
   "metadata": {
    "scrolled": true
   },
   "outputs": [],
   "source": [
    "client = AutoJWTClient(\n",
    "    base_url=\"https://192.168.123.97:1000/api\",\n",
    "    login_url=\"/auth/token/\",\n",
    "    email=\"a@a.com\",\n",
    "    password=\"pars\",\n",
    "    verify=False\n",
    ")"
   ]
  },
  {
   "cell_type": "code",
   "execution_count": 31,
   "id": "91ac2f1b-64d3-4aa0-9a92-31450ce961b0",
   "metadata": {},
   "outputs": [],
   "source": [
    "response = client.get(f\"\"\"/medication/medication-logs/split/?date=range&start_date=2025-06-10&end_date=2025-06-15\"\"\")"
   ]
  },
  {
   "cell_type": "code",
   "execution_count": 32,
   "id": "2379b216-11b1-4836-aa58-402ef35e3616",
   "metadata": {
    "scrolled": true
   },
   "outputs": [
    {
     "data": {
      "text/plain": [
       "[{'medication_logs': [{'id': 102,\n",
       "    'medication_name': 'test',\n",
       "    'date': '2025-06-10',\n",
       "    'time': '14:13:20.717764',\n",
       "    'taken_time': None,\n",
       "    'taken_status': 'taken',\n",
       "    'dose_taken': None,\n",
       "    'dose_unit': '',\n",
       "    'notes': '',\n",
       "    'user': 1,\n",
       "    'medication': None,\n",
       "    'dose_time': None}],\n",
       "  'date': '2025-06-10'},\n",
       " {'medication_logs': [{'id': 103,\n",
       "    'medication_name': 'test',\n",
       "    'date': '2025-06-11',\n",
       "    'time': '11:37:46.338447',\n",
       "    'taken_time': None,\n",
       "    'taken_status': 'pass',\n",
       "    'dose_taken': None,\n",
       "    'dose_unit': '',\n",
       "    'notes': '',\n",
       "    'user': 1,\n",
       "    'medication': None,\n",
       "    'dose_time': None}],\n",
       "  'date': '2025-06-11'}]"
      ]
     },
     "execution_count": 32,
     "metadata": {},
     "output_type": "execute_result"
    }
   ],
   "source": [
    "response.json()"
   ]
  },
  {
   "cell_type": "code",
   "execution_count": null,
   "id": "fdc5368c-f87c-4eb3-80ee-e562673f0953",
   "metadata": {},
   "outputs": [],
   "source": []
  }
 ],
 "metadata": {
  "kernelspec": {
   "display_name": "Python 3 (ipykernel)",
   "language": "python",
   "name": "python3"
  },
  "language_info": {
   "codemirror_mode": {
    "name": "ipython",
    "version": 3
   },
   "file_extension": ".py",
   "mimetype": "text/x-python",
   "name": "python",
   "nbconvert_exporter": "python",
   "pygments_lexer": "ipython3",
   "version": "3.12.5"
  }
 },
 "nbformat": 4,
 "nbformat_minor": 5
}
