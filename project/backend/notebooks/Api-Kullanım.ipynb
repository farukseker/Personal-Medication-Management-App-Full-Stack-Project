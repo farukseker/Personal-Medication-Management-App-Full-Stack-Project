{
 "cells": [
  {
   "cell_type": "code",
   "execution_count": null,
   "id": "584a4596-2ee0-48ac-a5c6-c957c9e3918d",
   "metadata": {},
   "outputs": [],
   "source": [
    "!cd C:\\Users\\seker\\Desktop\\prod\\uk_ile_savas\\project\\backend"
   ]
  },
  {
   "cell_type": "code",
   "execution_count": null,
   "id": "836b69a4-f829-45fc-ae82-5ba037de0232",
   "metadata": {},
   "outputs": [],
   "source": [
    "import os"
   ]
  },
  {
   "cell_type": "code",
   "execution_count": null,
   "id": "2fe9fd71-7092-46ba-a680-d9271c294605",
   "metadata": {},
   "outputs": [],
   "source": [
    "os.environ[\"DJANGO_ALLOW_ASYNC_UNSAFE\"] = 'true'"
   ]
  },
  {
   "cell_type": "code",
   "execution_count": null,
   "id": "899f7aec-5240-4731-8362-a99b4269035c",
   "metadata": {
    "scrolled": true
   },
   "outputs": [],
   "source": [
    "!pip install \"django-allauth[socialaccount]\""
   ]
  },
  {
   "cell_type": "code",
   "execution_count": null,
   "id": "f7d36ae2-726d-4d6f-a734-ed808dc94f3d",
   "metadata": {},
   "outputs": [],
   "source": []
  },
  {
   "cell_type": "code",
   "execution_count": null,
   "id": "ff67ddf2-6391-4de0-8f74-d7194130af82",
   "metadata": {},
   "outputs": [],
   "source": [
    "# ipykarnel seçilecek (kayıtlı olması da gerekli)\n",
    "import django\n",
    "import os\n",
    "import sys\n",
    "os.chdir(os.path.abspath(\"..\"))\n",
    "sys.path.append(os.path.abspath(\"..\"))\n",
    "sys.path.append(os.path.abspath(\"../\"))\n",
    "# if not django.apps.apps.ready:\n",
    "os.environ.setdefault(\"DJANGO_SETTINGS_MODULE\", \"config.settings.develop\")\n",
    "os.environ['DJANGO_SETTINGS_MODULE'] = 'config.settings.develop'"
   ]
  },
  {
   "cell_type": "code",
   "execution_count": null,
   "id": "e61474ab-342f-4be9-9b6e-b202be2416b0",
   "metadata": {},
   "outputs": [],
   "source": [
    "from config.settings.base import BASE_DIR\n",
    "print(BASE_DIR)"
   ]
  },
  {
   "cell_type": "code",
   "execution_count": null,
   "id": "6527f5f8-6fc5-4054-9059-4997e083159b",
   "metadata": {
    "scrolled": true
   },
   "outputs": [],
   "source": [
    "django.setup()"
   ]
  },
  {
   "cell_type": "code",
   "execution_count": null,
   "id": "ae6f7233-b786-4738-b7c2-06949b9731f0",
   "metadata": {},
   "outputs": [],
   "source": [
    "import logging\n",
    "logger = logging.getLogger('django.db.backends')\n",
    "logger.setLevel(logging.DEBUG)\n",
    "logger.addHandler(logging.StreamHandler())\n"
   ]
  },
  {
   "cell_type": "code",
   "execution_count": null,
   "id": "86d9f4ac-5773-4c7a-aa96-dfc82f84d214",
   "metadata": {
    "scrolled": true
   },
   "outputs": [],
   "source": [
    "from medication.models import (\n",
    "WeekDay,\n",
    "Medication,\n",
    "MedicationSchedule,\n",
    "MedicationLog,\n",
    "DailyNote,\n",
    "MedicationDoseTime,\n",
    ")\n"
   ]
  },
  {
   "cell_type": "code",
   "execution_count": null,
   "id": "c972f26a-4132-4451-93ab-9df5a3716781",
   "metadata": {},
   "outputs": [],
   "source": [
    "Medication.objects.all()"
   ]
  },
  {
   "cell_type": "code",
   "execution_count": null,
   "id": "44bfb152-d814-40f6-901e-af89f29ab237",
   "metadata": {},
   "outputs": [],
   "source": []
  }
 ],
 "metadata": {
  "kernelspec": {
   "display_name": "Python 3 (ipykernel)",
   "language": "python",
   "name": "python3"
  },
  "language_info": {
   "codemirror_mode": {
    "name": "ipython",
    "version": 3
   },
   "file_extension": ".py",
   "mimetype": "text/x-python",
   "name": "python",
   "nbconvert_exporter": "python",
   "pygments_lexer": "ipython3",
   "version": "3.12.5"
  }
 },
 "nbformat": 4,
 "nbformat_minor": 5
}
