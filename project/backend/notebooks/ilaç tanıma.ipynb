{
 "cells": [
  {
   "cell_type": "code",
   "execution_count": 1,
   "id": "8e76aa7d-8356-4f29-a355-0627b00a35a2",
   "metadata": {},
   "outputs": [],
   "source": [
    "\n",
    "# ipykarnel seçilecek (kayıtlı olması da gerekli)\n",
    "import django\n",
    "import os\n",
    "os.environ[\"DJANGO_ALLOW_ASYNC_UNSAFE\"] = 'true'\n",
    "import sys\n",
    "os.chdir(os.path.abspath(\"..\"))\n",
    "sys.path.append(os.path.abspath(\"..\"))\n",
    "sys.path.append(os.path.abspath(\"../\"))\n",
    "# if not django.apps.apps.ready:\n",
    "os.environ.setdefault(\"DJANGO_SETTINGS_MODULE\", \"config.settings.develop\")\n",
    "os.environ['DJANGO_SETTINGS_MODULE'] = 'config.settings.develop'\n",
    "django.setup()"
   ]
  },
  {
   "cell_type": "code",
   "execution_count": 2,
   "id": "d7604ce0-50cf-490c-9d47-a5d2c2316a06",
   "metadata": {},
   "outputs": [],
   "source": [
    "from datetime import date\n",
    "from django.utils.timezone import localdate\n",
    "from medication.models import MedicationAutoCompilationModel\n",
    "\n"
   ]
  },
  {
   "cell_type": "code",
   "execution_count": 4,
   "id": "58c73a5c-9311-4260-96dd-10f36eb8b228",
   "metadata": {},
   "outputs": [
    {
     "data": {
      "text/plain": [
       "<MedicationAutoCompilationModel: MedicationAutoCompilationModel object (8429)>"
      ]
     },
     "execution_count": 4,
     "metadata": {},
     "output_type": "execute_result"
    }
   ],
   "source": [
    "MedicationAutoCompilationModel.objects.first()"
   ]
  },
  {
   "cell_type": "code",
   "execution_count": 6,
   "id": "51d4ea94-6e0d-4dc4-a050-698a23694b55",
   "metadata": {},
   "outputs": [],
   "source": [
    "unit = [\n",
    "    {\n",
    "        \"param\": \"ui\",\n",
    "        \"value\":\"UI\"\n",
    "    },\n",
    "    {\n",
    "        \"param\": \"microgram\",\n",
    "        \"value\":\"MCG\"\n",
    "    },\n",
    "    {\n",
    "        \"param\": \"miligram\",\n",
    "        \"value\":\"MG\"\n",
    "    },\n",
    "    {\n",
    "        \"param\": \"gram\",\n",
    "        \"value\":\"GR\"\n",
    "    },\n",
    "    {\n",
    "        \"param\": \"litre\",\n",
    "        \"value\":\"L\"\n",
    "    },\n",
    "    {\n",
    "        \"param\": 'gram',\n",
    "        'value': \"G\",\n",
    "    },\n",
    "    {\n",
    "        \"param\": \"mililitre\",\n",
    "        \"value\":\"ML\"\n",
    "    },\n",
    "    {\n",
    "        \"param\": \"pieces\",\n",
    "        \"value\":\"Tane\"\n",
    "    },\n",
    "    {\n",
    "        \"param\": \"amp\",\n",
    "        \"value\":\"Ampül\"\n",
    "    },\n",
    "    {\n",
    "        \"param\": \"drop\",\n",
    "        \"value\":\"Damla\"\n",
    "    }\n",
    "]\n",
    "unit = {_.get('value'):_.get('param') for _ in unit}"
   ]
  },
  {
   "cell_type": "code",
   "execution_count": 23,
   "id": "cd9e8aad-759a-47a9-89eb-8fcb106701fc",
   "metadata": {},
   "outputs": [],
   "source": [
    "blk = []\n",
    "for mdc in MedicationAutoCompilationModel.objects.all():\n",
    "    # mdc.unit = unit.get(mdc.unit, 'Unknow') \n",
    "    mdc = mdc.__dict__\n",
    "    mdc.pop('_state')\n",
    "    # mdc.save()    \n",
    "    blk.append(mdc)\n"
   ]
  },
  {
   "cell_type": "code",
   "execution_count": 24,
   "id": "f0335a02-86df-4396-b9fe-d484556c5070",
   "metadata": {},
   "outputs": [
    {
     "data": {
      "text/plain": [
       "{'id': 16856,\n",
       " 'name': 'Eriolan 50 Mg Enjeksiyonluk/Infuzyonluk Cozelti Icin Liyofilize Toz Ve Cozucu (1 Flakon+1 Cozucu Flakon)*',\n",
       " 'barcode': '8681835338500.0',\n",
       " 'value': '50.0',\n",
       " 'unit': 'miligram'}"
      ]
     },
     "execution_count": 24,
     "metadata": {},
     "output_type": "execute_result"
    }
   ],
   "source": [
    "mdc"
   ]
  },
  {
   "cell_type": "code",
   "execution_count": 18,
   "id": "d88aeace-647d-4fa1-9bf6-425a6ea3b65a",
   "metadata": {},
   "outputs": [
    {
     "ename": "TypeError",
     "evalue": "QuerySet.bulk_update() missing 1 required positional argument: 'fields'",
     "output_type": "error",
     "traceback": [
      "\u001b[31m---------------------------------------------------------------------------\u001b[39m",
      "\u001b[31mTypeError\u001b[39m                                 Traceback (most recent call last)",
      "\u001b[36mCell\u001b[39m\u001b[36m \u001b[39m\u001b[32mIn[18]\u001b[39m\u001b[32m, line 1\u001b[39m\n\u001b[32m----> \u001b[39m\u001b[32m1\u001b[39m \u001b[43mMedicationAutoCompilationModel\u001b[49m\u001b[43m.\u001b[49m\u001b[43mobjects\u001b[49m\u001b[43m.\u001b[49m\u001b[43mbulk_update\u001b[49m\u001b[43m(\u001b[49m\u001b[43mblk\u001b[49m\u001b[43m)\u001b[49m\n",
      "\u001b[36mFile \u001b[39m\u001b[32m~\\Desktop\\prod\\uk_ile_savas\\project\\backend\\.venv\\Lib\\site-packages\\django\\db\\models\\manager.py:87\u001b[39m, in \u001b[36mBaseManager._get_queryset_methods.<locals>.create_method.<locals>.manager_method\u001b[39m\u001b[34m(self, *args, **kwargs)\u001b[39m\n\u001b[32m     85\u001b[39m \u001b[38;5;129m@wraps\u001b[39m(method)\n\u001b[32m     86\u001b[39m \u001b[38;5;28;01mdef\u001b[39;00m\u001b[38;5;250m \u001b[39m\u001b[34mmanager_method\u001b[39m(\u001b[38;5;28mself\u001b[39m, *args, **kwargs):\n\u001b[32m---> \u001b[39m\u001b[32m87\u001b[39m     \u001b[38;5;28;01mreturn\u001b[39;00m \u001b[38;5;28;43mgetattr\u001b[39;49m\u001b[43m(\u001b[49m\u001b[38;5;28;43mself\u001b[39;49m\u001b[43m.\u001b[49m\u001b[43mget_queryset\u001b[49m\u001b[43m(\u001b[49m\u001b[43m)\u001b[49m\u001b[43m,\u001b[49m\u001b[43m \u001b[49m\u001b[43mname\u001b[49m\u001b[43m)\u001b[49m\u001b[43m(\u001b[49m\u001b[43m*\u001b[49m\u001b[43margs\u001b[49m\u001b[43m,\u001b[49m\u001b[43m \u001b[49m\u001b[43m*\u001b[49m\u001b[43m*\u001b[49m\u001b[43mkwargs\u001b[49m\u001b[43m)\u001b[49m\n",
      "\u001b[31mTypeError\u001b[39m: QuerySet.bulk_update() missing 1 required positional argument: 'fields'"
     ]
    }
   ],
   "source": [
    "MedicationAutoCompilationModel.objects.bulk_update(blk)"
   ]
  },
  {
   "cell_type": "code",
   "execution_count": 26,
   "id": "14a22c54-5923-4c3f-a4bc-ce4a7eff12f1",
   "metadata": {},
   "outputs": [],
   "source": [
    "import json\n",
    "with open('auto_comp.json', 'w', encoding='utf-8') as df:\n",
    "    df.write(json.dumps(blk))\n",
    "    "
   ]
  },
  {
   "cell_type": "code",
   "execution_count": null,
   "id": "576cb5b1-7868-42dd-9df8-9c5e5eea0fc4",
   "metadata": {},
   "outputs": [],
   "source": []
  }
 ],
 "metadata": {
  "kernelspec": {
   "display_name": "Python 3 (ipykernel)",
   "language": "python",
   "name": "python3"
  },
  "language_info": {
   "codemirror_mode": {
    "name": "ipython",
    "version": 3
   },
   "file_extension": ".py",
   "mimetype": "text/x-python",
   "name": "python",
   "nbconvert_exporter": "python",
   "pygments_lexer": "ipython3",
   "version": "3.12.5"
  }
 },
 "nbformat": 4,
 "nbformat_minor": 5
}
