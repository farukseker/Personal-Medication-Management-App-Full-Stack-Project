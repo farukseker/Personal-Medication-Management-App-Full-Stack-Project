{
 "cells": [
  {
   "cell_type": "code",
   "execution_count": null,
   "id": "942a1f87-902e-4109-9cda-48659059ec2c",
   "metadata": {},
   "outputs": [],
   "source": [
    "from api_client import AutoJWTClient\n",
    "from pprint import pprint\n",
    "from dotenv import dotenv_values\n",
    "import urllib3\n",
    "urllib3.disable_warnings(urllib3.exceptions.InsecureRequestWarning)\n",
    "\n",
    "config = dotenv_values(\".env\")\n",
    "TEST_USER_PASSWORD = config.get('TEST_USER_PASSWORD')\n",
    "TEST_USER_EMAIL = config.get('TEST_USER_EMAIL')\n",
    "\n",
    "client = AutoJWTClient(\n",
    "    base_url=\"https://osdarken.pythonanywhere.com/api\",\n",
    "    login_url=\"/auth/token/\",\n",
    "    email=TEST_USER_EMAIL,\n",
    "    password=TEST_USER_PASSWORD\n",
    ")"
   ]
  },
  {
   "cell_type": "code",
   "execution_count": null,
   "id": "3f0f93d1-c588-429b-8bd3-24f40c3400fd",
   "metadata": {
    "scrolled": true
   },
   "outputs": [],
   "source": [
    "response = client.get('/medication/medication-logs/?date=month&ordering=date')\n",
    "data = response.json()\n",
    "pprint(response.json())"
   ]
  },
  {
   "cell_type": "code",
   "execution_count": null,
   "id": "85e66714-93c9-4154-986d-0ab664315a0d",
   "metadata": {
    "scrolled": true
   },
   "outputs": [],
   "source": [
    "from IPython.display import Markdown, display\n",
    "from collections import defaultdict\n",
    "from datetime import datetime\n",
    "\n",
    "# Grup verisi (örnek veri burada tekrar tanımlı değilse tanımlamalısın)\n",
    "grouped = defaultdict(list)\n",
    "for entry in data:\n",
    "    grouped[entry['date']].append(entry)\n",
    "\n",
    "def format_time(raw_time):\n",
    "    if not raw_time:\n",
    "        return \"-\"\n",
    "    try:\n",
    "        return datetime.strptime(raw_time.split('.')[0], \"%H:%M:%S\").strftime(\"%H:%M:%S\")\n",
    "    except:\n",
    "        return raw_time\n",
    "\n",
    "# Markdown render\n",
    "for date in sorted(grouped.keys(), reverse=True):\n",
    "    md = f\"\\n### 📅 {date}\\n\\n\"\n",
    "    md += \"| İlaç Adı | Durum | Saat | Doz Saati | Notlar |\\n\"\n",
    "    md += \"|----------|--------|-----------|-----------|--------|\\n\"\n",
    "    for item in grouped[date]:\n",
    "        name = item['medication_name']\n",
    "        status = item['taken_status']\n",
    "        time = format_time(item['time'])\n",
    "        dose_time = item['dose_time'] if item['dose_time'] is not None else \"-\"\n",
    "        notes = item['notes']\n",
    "        md += f\"| {name} | {status} | {time} | {dose_time} | {notes} |\\n\"\n",
    "    display(Markdown(md))\n"
   ]
  },
  {
   "cell_type": "markdown",
   "id": "3b5a0155-f26f-47a1-9a0e-930b6f9b4abd",
   "metadata": {},
   "source": [
    "# PANDAS ILE EXCEL CIKTISI"
   ]
  },
  {
   "cell_type": "code",
   "execution_count": null,
   "id": "159f16df-9c03-4f97-bafc-f4b27b473087",
   "metadata": {
    "scrolled": true
   },
   "outputs": [],
   "source": [
    "!pip install pandas openpyxl"
   ]
  },
  {
   "cell_type": "code",
   "execution_count": null,
   "id": "9aa76bb3-f328-4fb8-bf2d-8eef10cd7ecb",
   "metadata": {},
   "outputs": [],
   "source": []
  },
  {
   "cell_type": "code",
   "execution_count": null,
   "id": "433226af-1392-42b6-846d-cd019d7f7b79",
   "metadata": {},
   "outputs": [],
   "source": [
    "import pandas as pd\n",
    "from collections import defaultdict\n",
    "from datetime import datetime\n",
    "from openpyxl import load_workbook\n",
    "from openpyxl.styles import Font, Alignment\n",
    "from openpyxl.utils import get_column_letter\n",
    "\n",
    "def format_time(raw_time):\n",
    "    if not raw_time:\n",
    "        return \"-\"\n",
    "    try:\n",
    "        return datetime.strptime(raw_time.split('.')[0], \"%H:%M:%S\").strftime(\"%H:%M:%S\")\n",
    "    except:\n",
    "        return raw_time\n",
    "\n",
    "# Gruplama ve excel formatına uygun veri hazırlama\n",
    "grouped = defaultdict(list)\n",
    "for item in data:\n",
    "    grouped[item['date']].append(item)\n",
    "\n",
    "# Excel yazılacak veri yapısı (tarih başlığı + tablo verisi)\n",
    "rows = []\n",
    "\n",
    "for date in sorted(grouped.keys(), reverse=True):\n",
    "    rows.append({\"Tarih\": f\"📅 {date}\", \"İlaç Adı\": \"\", \"Durum\": \"\", \"Doz Saati\": \"\"})\n",
    "    for item in grouped[date]:\n",
    "        rows.append({\n",
    "            \"Tarih\": \"\",\n",
    "            \"İlaç Adı\": item['medication_name'],\n",
    "            \"Durum\": item['taken_status'],\n",
    "            \"Doz Saati\": format_time(item['time']) if item['time'] is not None else \"-\",\n",
    "        })\n",
    "    rows.append({\"Tarih\": \"\", \"İlaç Adı\": \"\", \"Durum\": \"\", \"Doz Saati\": \"\"})  # boşluk satırı\n",
    "\n",
    "# DataFrame oluştur\n",
    "df = pd.DataFrame(rows)\n",
    "\n",
    "# Excel'e yaz\n",
    "excel_path = \"ilac_takip_gelistirilmis.xlsx\"\n",
    "df.to_excel(excel_path, index=False)\n",
    "\n",
    "# Genişlik ve stil ayarları\n",
    "wb = load_workbook(excel_path)\n",
    "ws = wb.active\n",
    "\n",
    "# Otomatik sütun genişliği ve ortalama\n",
    "for col in ws.columns:\n",
    "    max_length = 0\n",
    "    column = col[0].column_letter\n",
    "    for cell in col:\n",
    "        try:\n",
    "            if cell.value:\n",
    "                max_length = max(max_length, len(str(cell.value)))\n",
    "        except:\n",
    "            pass\n",
    "    ws.column_dimensions[column].width = max_length + 4\n",
    "    for cell in col:\n",
    "        cell.alignment = Alignment(horizontal='center', vertical='center')\n",
    "        if isinstance(cell.value, str) and cell.value.startswith(\"📅\"):\n",
    "            cell.font = Font(bold=True)\n",
    "\n",
    "# Kaydet\n",
    "wb.save(excel_path)\n",
    "\n",
    "excel_path\n"
   ]
  },
  {
   "cell_type": "markdown",
   "id": "7cb1f534-87a1-457a-88c1-40f0746fdac4",
   "metadata": {},
   "source": [
    "---"
   ]
  },
  {
   "cell_type": "markdown",
   "id": "a26b91e9-c6e5-4331-bdb0-c9d4f66a1d72",
   "metadata": {},
   "source": [
    "# Sayaçlar"
   ]
  },
  {
   "cell_type": "code",
   "execution_count": null,
   "id": "f8b57cb8-96b9-4c9f-86fa-2fe2b53c1345",
   "metadata": {
    "scrolled": true
   },
   "outputs": [],
   "source": [
    "response = client.get('/counter/all/')\n",
    "pprint(response.json())"
   ]
  },
  {
   "cell_type": "code",
   "execution_count": null,
   "id": "502734ef-9aa3-4bd8-9064-88ea625c6159",
   "metadata": {},
   "outputs": [],
   "source": [
    "def reFrameData(data: list):\n",
    "    colorMap: dict = {\n",
    "        \"kan\": \"red\",\n",
    "        \"Mukus\": \"orange\",\n",
    "        \"wc\": \"cyan\"\n",
    "    }\n",
    "    for const in data:\n",
    "        const[\"color\"] = colorMap[const[\"counter_name\"]]\n",
    "    return data\n",
    "data = reFrameData(response.json())"
   ]
  },
  {
   "cell_type": "code",
   "execution_count": null,
   "id": "71f469f6-9864-49c8-9df8-593117a6661a",
   "metadata": {
    "scrolled": true
   },
   "outputs": [],
   "source": [
    "data"
   ]
  },
  {
   "cell_type": "code",
   "execution_count": null,
   "id": "b6e058ce-2772-438f-a127-be838817b445",
   "metadata": {},
   "outputs": [],
   "source": [
    "import pandas as pd\n",
    "import matplotlib.pyplot as plt\n",
    "\n",
    "# API'den gelen veri\n",
    "data = response.json()\n",
    "\n",
    "# DataFrame oluştur\n",
    "df = pd.DataFrame(data)\n",
    "df['date'] = pd.to_datetime(df['date'])\n",
    "\n",
    "# Pivot tablo\n",
    "pivot_df = df.pivot_table(index='date', columns='counter_name', values='total', aggfunc='sum')\n",
    "\n",
    "# Grafik çizimi\n",
    "plt.figure(figsize=(10, 6))\n",
    "for column in pivot_df.columns:\n",
    "    plt.plot(\n",
    "        pivot_df.index,\n",
    "        pivot_df[column],\n",
    "        linestyle='--',\n",
    "        marker='o',\n",
    "        label=column\n",
    "    )\n",
    "\n",
    "plt.title('Sayaç Günlük Takibi (Noktalı Çizgi)')\n",
    "plt.xlabel('Tarih')\n",
    "plt.ylabel('Toplam')\n",
    "plt.grid(True)\n",
    "plt.legend(title='Sayaç Adı')\n",
    "plt.xticks(rotation=45)\n",
    "plt.tight_layout()\n",
    "plt.show()\n"
   ]
  },
  {
   "cell_type": "code",
   "execution_count": null,
   "id": "6733030b-8bbd-4c6c-bc9f-56e035567598",
   "metadata": {},
   "outputs": [],
   "source": [
    "import pandas as pd\n",
    "from IPython.display import HTML\n",
    "\n",
    "# DataFrame\n",
    "df = pd.DataFrame(data)\n",
    "df['date'] = pd.to_datetime(df['date'])\n",
    "\n",
    "# Renkleri eşle (her counter_name için 1 renk seçiyoruz)\n",
    "colors = df.drop_duplicates(subset='counter_name').set_index('counter_name')['color'].to_dict()\n",
    "\n",
    "# Pivot\n",
    "pivot_df = df.pivot_table(index='date', columns='counter_name', values='total', aggfunc='sum').fillna(0)\n",
    "categories = pivot_df.index.strftime('%Y-%m-%d').tolist()\n",
    "\n",
    "# Series ve renk listesi\n",
    "series = []\n",
    "color_list = []\n",
    "\n",
    "for counter in pivot_df.columns:\n",
    "    series.append({\n",
    "        'name': counter,\n",
    "        'data': pivot_df[counter].tolist()\n",
    "    })\n",
    "    color_list.append(colors.get(counter, '#000'))  # varsayılan siyah\n",
    "\n",
    "# HTML + JS\n",
    "html = f\"\"\"\n",
    "<div id=\"chart\"></div>\n",
    "<script src=\"https://cdn.jsdelivr.net/npm/apexcharts\"></script>\n",
    "<script>\n",
    "    var options = {{\n",
    "        chart: {{\n",
    "            type: 'line',\n",
    "            height: 400\n",
    "        }},\n",
    "        colors: {color_list},\n",
    "        series: {series},\n",
    "        xaxis: {{\n",
    "            categories: {categories}\n",
    "        }},\n",
    "        markers: {{\n",
    "            size: 6\n",
    "        }},\n",
    "        stroke: {{\n",
    "            curve: 'straight'\n",
    "        }},\n",
    "        title: {{\n",
    "            text: 'Sayaç Takibi (Renkli)',\n",
    "            align: 'left'\n",
    "        }}\n",
    "    }};\n",
    "\n",
    "    var chart = new ApexCharts(document.querySelector(\"#chart\"), options);\n",
    "    chart.render();\n",
    "</script>\n",
    "\"\"\"\n",
    "\n",
    "HTML(html)\n"
   ]
  },
  {
   "cell_type": "code",
   "execution_count": null,
   "id": "9bb6d956-d7e8-44c3-be4f-4a91f800a1a3",
   "metadata": {},
   "outputs": [],
   "source": [
    "from collections import defaultdict\n",
    "\n",
    "# Sadece \"wc\" olanları filtrele\n",
    "wc_data = [item for item in data if item['counter_name'] == 'wc']\n",
    "\n",
    "# Tarihe göre grupla\n",
    "wc_daily_totals = defaultdict(int)\n",
    "for item in wc_data:\n",
    "    wc_daily_totals[item['date']] += item['total']\n",
    "\n",
    "# Günlük toplamların ortalamasını al\n",
    "wc_daily_avg = sum(wc_daily_totals.values()) / len(wc_daily_totals)\n",
    "\n",
    "print(\"WC sayaç günlük ortalaması:\", wc_daily_avg)"
   ]
  },
  {
   "cell_type": "code",
   "execution_count": null,
   "id": "c4e382d1-1c26-4172-9921-1502ef3129bb",
   "metadata": {},
   "outputs": [],
   "source": [
    "from collections import defaultdict\n",
    "\n",
    "# Sayaçlara göre günlük toplamları tut\n",
    "daily_totals_by_counter = defaultdict(lambda: defaultdict(int))\n",
    "\n",
    "for item in data:\n",
    "    name = item['counter_name']\n",
    "    date = item['date']\n",
    "    total = item['total']\n",
    "    daily_totals_by_counter[name][date] += total\n",
    "\n",
    "# Ortalama hesapla\n",
    "averages_by_counter = {}\n",
    "for name, date_totals in daily_totals_by_counter.items():\n",
    "    avg = sum(date_totals.values()) / len(date_totals)\n",
    "    averages_by_counter[name] = avg\n",
    "\n",
    "print(averages_by_counter)"
   ]
  },
  {
   "cell_type": "code",
   "execution_count": null,
   "id": "c4803c48-4105-4fce-86e9-7765ad151fc3",
   "metadata": {},
   "outputs": [],
   "source": []
  }
 ],
 "metadata": {
  "kernelspec": {
   "display_name": "Python 3 (ipykernel)",
   "language": "python",
   "name": "python3"
  },
  "language_info": {
   "codemirror_mode": {
    "name": "ipython",
    "version": 3
   },
   "file_extension": ".py",
   "mimetype": "text/x-python",
   "name": "python",
   "nbconvert_exporter": "python",
   "pygments_lexer": "ipython3",
   "version": "3.12.5"
  }
 },
 "nbformat": 4,
 "nbformat_minor": 5
}
