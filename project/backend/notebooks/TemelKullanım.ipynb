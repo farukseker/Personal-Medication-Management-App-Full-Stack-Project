{
 "cells": [
  {
   "cell_type": "markdown",
   "id": "05f3268c-5110-4385-b87e-35725f277dff",
   "metadata": {},
   "source": [
    "# Apı kulanım örnekleri"
   ]
  },
  {
   "cell_type": "code",
   "execution_count": 1,
   "id": "29addf87-560b-459e-aee2-38c0ac36d309",
   "metadata": {},
   "outputs": [],
   "source": [
    "from api_client import AutoJWTClient"
   ]
  },
  {
   "cell_type": "code",
   "execution_count": 4,
   "id": "16294dc3-44cc-4dd9-a82c-49ea76c27bbf",
   "metadata": {},
   "outputs": [],
   "source": [
    "client = AutoJWTClient(\n",
    "    base_url=\"http://192.168.123.97:1000/api\",\n",
    "    login_url=\"/auth/token/\",\n",
    "    email=\"a@a.com\",\n",
    "    password=\"pars\"\n",
    ")"
   ]
  },
  {
   "cell_type": "code",
   "execution_count": null,
   "id": "a3999c6c-e7b2-493b-a919-e9759a8fcf84",
   "metadata": {},
   "outputs": [],
   "source": [
    "from pw import password\n",
    "client = AutoJWTClient(\n",
    "    base_url=\"https://osdarken.pythonanywhere.com/api\",\n",
    "    login_url=\"/auth/token/\",\n",
    "    email=\"f4rukseker@gmail.com\",\n",
    "    password=password\n",
    ")"
   ]
  },
  {
   "cell_type": "code",
   "execution_count": 5,
   "id": "8f12028a-57d5-4eca-a972-457c7e5ff63b",
   "metadata": {},
   "outputs": [],
   "source": [
    "from pprint import pprint"
   ]
  },
  {
   "cell_type": "markdown",
   "id": "b08a04dc-fe9d-4f45-adb8-46d746718f50",
   "metadata": {},
   "source": [
    "## ilaçları görüntülemek için"
   ]
  },
  {
   "cell_type": "code",
   "execution_count": 6,
   "id": "5ff44278-353c-4e6f-84be-d9c92081fb86",
   "metadata": {},
   "outputs": [],
   "source": [
    "response = client.get('/medication/medications/')"
   ]
  },
  {
   "cell_type": "code",
   "execution_count": 7,
   "id": "895839d6-c732-48cf-a79c-85ad1129f820",
   "metadata": {
    "scrolled": true
   },
   "outputs": [
    {
     "name": "stdout",
     "output_type": "stream",
     "text": [
      "[{'default_dose_amount': '500.00',\n",
      "  'default_dose_unit': 'miligram',\n",
      "  'id': 8,\n",
      "  'is_active': True,\n",
      "  'name': 'Parol 500 Mg 30 Tb',\n",
      "  'schedules': []}]\n"
     ]
    }
   ],
   "source": [
    "pprint(response.json())"
   ]
  },
  {
   "cell_type": "markdown",
   "id": "bf866cf3-334f-48d0-9415-7d62e48a4c16",
   "metadata": {},
   "source": [
    "## Spesifik bir ilacı görüntülemek için"
   ]
  },
  {
   "cell_type": "code",
   "execution_count": 9,
   "id": "71e40a23-9eca-4822-b191-52b671cede31",
   "metadata": {},
   "outputs": [
    {
     "data": {
      "text/plain": [
       "'{\"id\":8,\"name\":\"Parol 500 Mg 30 Tb\",\"is_active\":true,\"default_dose_amount\":\"500.00\",\"default_dose_unit\":\"miligram\",\"schedules\":[]}'"
      ]
     },
     "execution_count": 9,
     "metadata": {},
     "output_type": "execute_result"
    }
   ],
   "source": [
    "medication_id: int = 8\n",
    "response = client.get(f'/medication/medications/{medication_id}/')\n",
    "response.text"
   ]
  },
  {
   "cell_type": "code",
   "execution_count": 13,
   "id": "a9c44592-6491-4aa2-81ea-140729ab5af3",
   "metadata": {},
   "outputs": [
    {
     "data": {
      "text/plain": [
       "'{\"id\":8,\"name\":\"Parol 2 500 Mg 30 Tb\",\"is_active\":true,\"default_dose_amount\":\"500.00\",\"default_dose_unit\":\"miligram\",\"schedules\":[]}'"
      ]
     },
     "execution_count": 13,
     "metadata": {},
     "output_type": "execute_result"
    }
   ],
   "source": [
    "medication_id: int = 8\n",
    "response = client.put(f'/medication/medications/{medication_id}/', json={\n",
    "    'default_dose_amount': '500.00',\n",
    "  'default_dose_unit': 'miligram',\n",
    "  'id': 8,\n",
    "  'is_active': True,\n",
    "  'name': 'Parol 2 500 Mg 30 Tb',\n",
    "  'schedules': []\n",
    "})\n",
    "response.text"
   ]
  },
  {
   "cell_type": "markdown",
   "id": "6077d211-a0e9-4cae-9833-f5f809e44986",
   "metadata": {},
   "source": [
    "## planlama"
   ]
  },
  {
   "cell_type": "code",
   "execution_count": null,
   "id": "efc03fd9-3a2b-413c-a64c-e7e9ca955f7c",
   "metadata": {},
   "outputs": [],
   "source": [
    "response = client.get('/medication/medication-schedules')\n",
    "response.text"
   ]
  },
  {
   "cell_type": "markdown",
   "id": "d3a0fcf3-2d5c-4ddd-a4c5-b03ec07430f4",
   "metadata": {},
   "source": [
    "## Bugün hangi ilaçları alıcak"
   ]
  },
  {
   "cell_type": "code",
   "execution_count": null,
   "id": "d270b61a-bf07-4290-a418-d4854912e546",
   "metadata": {
    "scrolled": true
   },
   "outputs": [],
   "source": [
    "response = client.get('/medication/today/')\n",
    "try:\n",
    "    pprint(response.json())\n",
    "except:\n",
    "    print(response.text)"
   ]
  },
  {
   "cell_type": "code",
   "execution_count": null,
   "id": "c55f28ad-3ad3-4eda-9936-4162deb688aa",
   "metadata": {},
   "outputs": [],
   "source": [
    "## Ilaç Almak"
   ]
  },
  {
   "cell_type": "code",
   "execution_count": null,
   "id": "0deacf7a-5b04-4380-b848-2763e75b88c8",
   "metadata": {
    "scrolled": true
   },
   "outputs": [],
   "source": [
    "response = client.post('/medication/medication-logs/create/', data={\n",
    "    \"medication\": 5,\n",
    "    \"dose\": 1,\n",
    "    \"taken_status\": 'pass',\n",
    "    \"dose_time\": 2\n",
    "})\n",
    "response.text\n"
   ]
  },
  {
   "cell_type": "code",
   "execution_count": null,
   "id": "509c445f-f580-4674-935a-9956eee49b69",
   "metadata": {
    "scrolled": true
   },
   "outputs": [],
   "source": [
    "response = client.get('/medication/medication-logs/?date=today')\n",
    "pprint(response.json())"
   ]
  },
  {
   "cell_type": "code",
   "execution_count": null,
   "id": "0c293e4d-d4f9-4f69-8891-afe4d0672b27",
   "metadata": {
    "scrolled": true
   },
   "outputs": [],
   "source": [
    "\n",
    "response = client.get('/medication/medication-logs/?date=month&ordering=date')\n",
    "pprint(response.json())"
   ]
  },
  {
   "cell_type": "code",
   "execution_count": null,
   "id": "926afcfc-e458-495e-8fc0-1cca98255597",
   "metadata": {},
   "outputs": [],
   "source": []
  },
  {
   "cell_type": "markdown",
   "id": "64b00710-20f0-4c8f-82a5-580d84ed3a53",
   "metadata": {},
   "source": [
    "## İlaç kaydı oluşturma"
   ]
  },
  {
   "cell_type": "code",
   "execution_count": null,
   "id": "3fd18e8d-55f7-40fb-898f-a16cddf43851",
   "metadata": {},
   "outputs": [],
   "source": [
    "response = client.post('/medication/medication-schedules/')\n",
    "pprint(response.status_code)\n",
    "pprint(response.text)"
   ]
  },
  {
   "cell_type": "code",
   "execution_count": null,
   "id": "a9c18192-ff2a-4478-a061-c37c99a632f5",
   "metadata": {
    "scrolled": true
   },
   "outputs": [],
   "source": [
    "response = client.post('/medication/medications/create/', json={\n",
    "    \"id\": 1,\n",
    "    \"name\": \"pars\",\n",
    "    \"is_active\": True,\n",
    "    \"default_dose_amount\": \"1.00\",\n",
    "    \"default_dose_unit\": \"mg\",\n",
    "    \"schedules\": [\n",
    "            {\n",
    "                \"start_date\": \"2025-04-12\",\n",
    "                \"end_date\": \"2025-05-13\",\n",
    "                \"frequency\": \"daily\",\n",
    "                \"interval\": 1,\n",
    "                \"day_of_month\": 0,\n",
    "                \"doses_per_period\": 3,\n",
    "                \"dose_amount\": \"2.00\",\n",
    "                \"dose_unit\": \"mg\",\n",
    "                \"dose_times\": [\n",
    "                    {\"time\":\"10:30\", \"dose_amount\":12, \"dose_unit\": \"mg\"},\n",
    "                    {\"time\":\"10:40\", \"dose_amount\":12, \"dose_unit\": \"mg\"},\n",
    "                ],\n",
    "                \"days_of_week\": list(range(1, 7 + 1)),\n",
    "\n",
    "            }\n",
    "    ],\n",
    "    \"default_dose_amount\": 2,\n",
    "    \"default_dose_unit\": \"mililitre\", \n",
    "})\n",
    "pprint(response.status_code)\n",
    "pprint(response.text)"
   ]
  },
  {
   "cell_type": "markdown",
   "id": "d1f39b52-42bf-47c9-816c-a75c2c576604",
   "metadata": {},
   "source": [
    "## PLANSIZ - İlaç kaydı oluşturma"
   ]
  },
  {
   "cell_type": "code",
   "execution_count": null,
   "id": "0a530de7-31e7-406b-acc8-b2e89395c7e7",
   "metadata": {},
   "outputs": [],
   "source": [
    "response = client.post('/medication/medications/create/', json={\n",
    "    \"id\": 1,\n",
    "    \"name\": \"pars\",\n",
    "    \"is_active\": True,\n",
    "    \"default_dose_amount\": \"1.00\",\n",
    "    \"default_dose_unit\": \"mg\",\n",
    "    \"schedules\": [\n",
    "            \n",
    "    ],\n",
    "    \"default_dose_amount\": 2,\n",
    "    \"default_dose_unit\": \"mililitre\", \n",
    "})\n",
    "pprint(response.status_code)\n",
    "pprint(response.text)"
   ]
  },
  {
   "cell_type": "code",
   "execution_count": null,
   "id": "caf5f542-eca2-49ed-95df-49c6d3fcde69",
   "metadata": {
    "scrolled": true
   },
   "outputs": [],
   "source": [
    "response = client.delete('/medication/medications/1/')\n",
    "response.text"
   ]
  },
  {
   "cell_type": "code",
   "execution_count": null,
   "id": "ab4ed9e1-8a65-45e6-9954-3e91bd15d336",
   "metadata": {},
   "outputs": [],
   "source": [
    "for dep in deps.split('\\n'):\n",
    "    print(dep.split('==')[0])"
   ]
  },
  {
   "cell_type": "code",
   "execution_count": null,
   "id": "11061e7d-295a-42c7-832c-d11344c34410",
   "metadata": {},
   "outputs": [],
   "source": []
  },
  {
   "cell_type": "markdown",
   "id": "928dccae-c940-49be-9caa-b2793ca5b7da",
   "metadata": {},
   "source": [
    "# Sayaçlar"
   ]
  },
  {
   "cell_type": "markdown",
   "id": "7565298b-4fdc-4b63-b95a-a762954aa42c",
   "metadata": {},
   "source": [
    "## sayaç listele"
   ]
  },
  {
   "cell_type": "code",
   "execution_count": 1,
   "id": "83316b83-00a9-400c-8200-4a1455330021",
   "metadata": {},
   "outputs": [
    {
     "ename": "NameError",
     "evalue": "name 'client' is not defined",
     "output_type": "error",
     "traceback": [
      "\u001b[31m---------------------------------------------------------------------------\u001b[39m",
      "\u001b[31mNameError\u001b[39m                                 Traceback (most recent call last)",
      "\u001b[36mCell\u001b[39m\u001b[36m \u001b[39m\u001b[32mIn[1]\u001b[39m\u001b[32m, line 1\u001b[39m\n\u001b[32m----> \u001b[39m\u001b[32m1\u001b[39m response = \u001b[43mclient\u001b[49m.get(\u001b[33m'\u001b[39m\u001b[33m/counter/\u001b[39m\u001b[33m'\u001b[39m)\n\u001b[32m      2\u001b[39m pprint(response.json())\n",
      "\u001b[31mNameError\u001b[39m: name 'client' is not defined"
     ]
    }
   ],
   "source": [
    "response = client.get('/counter/')\n",
    "pprint(response.json())"
   ]
  },
  {
   "cell_type": "markdown",
   "id": "73733a35-2b8c-416c-b18d-33abb26bfe7f",
   "metadata": {},
   "source": [
    "## sayaç ekle"
   ]
  },
  {
   "cell_type": "code",
   "execution_count": null,
   "id": "70375cc0-48e1-4df6-8b01-baf0dfa05062",
   "metadata": {},
   "outputs": [],
   "source": [
    "response = client.post('/counter/', json={\n",
    "    \"unit\": \"Tane\",\n",
    "    \"name\": \"İhtiyaç\"\n",
    "})\n",
    "response.text"
   ]
  },
  {
   "cell_type": "markdown",
   "id": "83412fdb-4944-4965-926b-36e501c2fa15",
   "metadata": {},
   "source": [
    "## Sayaç sayma"
   ]
  },
  {
   "cell_type": "code",
   "execution_count": null,
   "id": "b92a4698-037a-4c5f-9a16-c7878af62ad1",
   "metadata": {},
   "outputs": [],
   "source": [
    "counter_id = 1\n",
    "response = client.post(f'/counter/tick/', json={\n",
    "    \"counter\": counter_id,\n",
    "    \"value\": -1 # terse >\n",
    "})\n",
    "response.text"
   ]
  },
  {
   "cell_type": "code",
   "execution_count": null,
   "id": "e890fb66-3d36-4b2b-bed6-f36327abb57e",
   "metadata": {},
   "outputs": [],
   "source": [
    "response = client.get(f'/counter/')\n",
    "response.text"
   ]
  },
  {
   "cell_type": "code",
   "execution_count": null,
   "id": "ea19e478-0186-4a2b-9342-1d9e6ebf5f31",
   "metadata": {},
   "outputs": [],
   "source": []
  },
  {
   "cell_type": "code",
   "execution_count": null,
   "id": "6c98d5f8-1d3a-4351-8c7c-6f7530845a37",
   "metadata": {},
   "outputs": [],
   "source": []
  },
  {
   "cell_type": "code",
   "execution_count": 34,
   "id": "df98ff3e-96bc-4749-a92e-3256ae8c146e",
   "metadata": {
    "scrolled": true
   },
   "outputs": [
    {
     "data": {
      "text/plain": [
       "'{\"first_name\":\"\",\"last_name\":\"\",\"email\":\"a@a.com\"}'"
      ]
     },
     "execution_count": 34,
     "metadata": {},
     "output_type": "execute_result"
    }
   ],
   "source": [
    "response = client.get(f'/auth/info/')\n",
    "response.text"
   ]
  },
  {
   "cell_type": "code",
   "execution_count": null,
   "id": "c9a93ea0-54e9-45e0-8e6d-f55f82643374",
   "metadata": {},
   "outputs": [],
   "source": []
  }
 ],
 "metadata": {
  "kernelspec": {
   "display_name": "Python 3 (ipykernel)",
   "language": "python",
   "name": "python3"
  },
  "language_info": {
   "codemirror_mode": {
    "name": "ipython",
    "version": 3
   },
   "file_extension": ".py",
   "mimetype": "text/x-python",
   "name": "python",
   "nbconvert_exporter": "python",
   "pygments_lexer": "ipython3",
   "version": "3.12.5"
  }
 },
 "nbformat": 4,
 "nbformat_minor": 5
}
