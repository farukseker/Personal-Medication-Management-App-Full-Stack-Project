{
 "cells": [
  {
   "cell_type": "code",
   "execution_count": 1,
   "id": "374d33f1-3eb4-4170-829b-81464f3e9c8f",
   "metadata": {},
   "outputs": [],
   "source": [
    "# ipykarnel seçilecek (kayıtlı olması da gerekli)\n",
    "import django\n",
    "import os\n",
    "os.environ[\"DJANGO_ALLOW_ASYNC_UNSAFE\"] = 'true'\n",
    "import sys\n",
    "os.chdir(os.path.abspath(\"..\"))\n",
    "sys.path.append(os.path.abspath(\"..\"))\n",
    "sys.path.append(os.path.abspath(\"../\"))\n",
    "# if not django.apps.apps.ready:\n",
    "os.environ.setdefault(\"DJANGO_SETTINGS_MODULE\", \"config.settings.develop\")\n",
    "os.environ['DJANGO_SETTINGS_MODULE'] = 'config.settings.develop'\n",
    "django.setup()"
   ]
  },
  {
   "cell_type": "code",
   "execution_count": 2,
   "id": "c3306f84-f166-4afc-bf9b-53d4aa94bef3",
   "metadata": {},
   "outputs": [
    {
     "name": "stdout",
     "output_type": "stream",
     "text": [
      "sub count: 4\n"
     ]
    }
   ],
   "source": [
    "from notification_base.tasks import send_push_notification_message\n",
    "from notification_base.models import PushSubscription\n",
    "\n",
    "import json\n",
    "\n",
    "def trigger_push():\n",
    "    payload = {\n",
    "        \"title\": \"Merhaba!\",\n",
    "        \"body\": \"Bu bir python test bildirimidir.\",\n",
    "        \"type\": \"medicine\"\n",
    "    }\n",
    "    print(f'sub count: {PushSubscription.objects.count()}')\n",
    "    for sub in PushSubscription.objects.all():\n",
    "        send_push_notification_message.delay(sub.id, payload)\n",
    "trigger_push()"
   ]
  }
 ],
 "metadata": {
  "kernelspec": {
   "display_name": "Python 3 (ipykernel)",
   "language": "python",
   "name": "python3"
  },
  "language_info": {
   "codemirror_mode": {
    "name": "ipython",
    "version": 3
   },
   "file_extension": ".py",
   "mimetype": "text/x-python",
   "name": "python",
   "nbconvert_exporter": "python",
   "pygments_lexer": "ipython3",
   "version": "3.12.5"
  }
 },
 "nbformat": 4,
 "nbformat_minor": 5
}
