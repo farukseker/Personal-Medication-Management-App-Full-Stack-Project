{
 "cells": [
  {
   "cell_type": "code",
   "execution_count": 1,
   "id": "374d33f1-3eb4-4170-829b-81464f3e9c8f",
   "metadata": {},
   "outputs": [],
   "source": [
    "\n",
    "# ipykarnel seçilecek (kayıtlı olması da gerekli)\n",
    "import django\n",
    "import os\n",
    "os.environ[\"DJANGO_ALLOW_ASYNC_UNSAFE\"] = 'true'\n",
    "import sys\n",
    "os.chdir(os.path.abspath(\"..\"))\n",
    "sys.path.append(os.path.abspath(\"..\"))\n",
    "sys.path.append(os.path.abspath(\"../\"))\n",
    "# if not django.apps.apps.ready:\n",
    "os.environ.setdefault(\"DJANGO_SETTINGS_MODULE\", \"config.settings.develop\")\n",
    "os.environ['DJANGO_SETTINGS_MODULE'] = 'config.settings.develop'\n",
    "django.setup()"
   ]
  },
  {
   "cell_type": "code",
   "execution_count": 3,
   "id": "c3306f84-f166-4afc-bf9b-53d4aa94bef3",
   "metadata": {},
   "outputs": [
    {
     "name": "stdout",
     "output_type": "stream",
     "text": [
      "sub count: 3\n"
     ]
    }
   ],
   "source": [
    "from notification_base.tasks import send_push_notification_message\n",
    "from notification_base.models import PushSubscription\n",
    "\n",
    "import json\n",
    "\n",
    "def trigger_push():\n",
    "    payload = {\n",
    "        \"title\": \"Merhaba!\",\n",
    "        \"body\": \"Bu bir python test bildirimidir.\",\n",
    "        \"type\": \"medicine\"\n",
    "    }\n",
    "    print(f'sub count: {PushSubscription.objects.count()}')\n",
    "    for sub in PushSubscription.objects.all():\n",
    "        send_push_notification_message.delay(sub.id, payload)\n",
    "trigger_push()"
   ]
  },
  {
   "cell_type": "code",
   "execution_count": 21,
   "id": "1205bffb-df48-4c1f-8c59-ec26c7b362b1",
   "metadata": {},
   "outputs": [
    {
     "name": "stdout",
     "output_type": "stream",
     "text": [
      "sub count: 3\n"
     ]
    }
   ],
   "source": []
  },
  {
   "cell_type": "code",
   "execution_count": 34,
   "id": "cb40d68b-5d59-494b-9fd2-783553c6af1a",
   "metadata": {},
   "outputs": [
    {
     "ename": "NameError",
     "evalue": "name 'send_push_message' is not defined",
     "output_type": "error",
     "traceback": [
      "\u001b[31m---------------------------------------------------------------------------\u001b[39m",
      "\u001b[31mNameError\u001b[39m                                 Traceback (most recent call last)",
      "\u001b[36mCell\u001b[39m\u001b[36m \u001b[39m\u001b[32mIn[34]\u001b[39m\u001b[32m, line 1\u001b[39m\n\u001b[32m----> \u001b[39m\u001b[32m1\u001b[39m \u001b[43msend_push_message\u001b[49m(\u001b[32m0\u001b[39m, \u001b[32m1\u001b[39m)\n",
      "\u001b[31mNameError\u001b[39m: name 'send_push_message' is not defined"
     ]
    }
   ],
   "source": [
    "send_push_message(0, 1)"
   ]
  },
  {
   "cell_type": "code",
   "execution_count": null,
   "id": "f96ddeb4-de08-4ec5-88b1-25e78c84e37e",
   "metadata": {},
   "outputs": [],
   "source": []
  }
 ],
 "metadata": {
  "kernelspec": {
   "display_name": "Python 3 (ipykernel)",
   "language": "python",
   "name": "python3"
  },
  "language_info": {
   "codemirror_mode": {
    "name": "ipython",
    "version": 3
   },
   "file_extension": ".py",
   "mimetype": "text/x-python",
   "name": "python",
   "nbconvert_exporter": "python",
   "pygments_lexer": "ipython3",
   "version": "3.12.5"
  }
 },
 "nbformat": 4,
 "nbformat_minor": 5
}
