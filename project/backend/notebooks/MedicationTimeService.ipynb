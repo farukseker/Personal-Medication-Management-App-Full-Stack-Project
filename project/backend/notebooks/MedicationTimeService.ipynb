{
 "cells": [
  {
   "cell_type": "code",
   "execution_count": 1,
   "id": "207af2c3-4e9d-417b-ad15-51090101f421",
   "metadata": {},
   "outputs": [],
   "source": [
    "## zamanlama testi"
   ]
  },
  {
   "cell_type": "code",
   "execution_count": 1,
   "id": "bd910c34-818e-4ae2-aa26-89df1ae8a9f9",
   "metadata": {},
   "outputs": [],
   "source": [
    "# ipykarnel seçilecek (kayıtlı olması da gerekli)\n",
    "import django\n",
    "import os\n",
    "os.environ[\"DJANGO_ALLOW_ASYNC_UNSAFE\"] = 'true'\n",
    "import sys\n",
    "os.chdir(os.path.abspath(\"..\"))\n",
    "sys.path.append(os.path.abspath(\"..\"))\n",
    "sys.path.append(os.path.abspath(\"../\"))\n",
    "# if not django.apps.apps.ready:\n",
    "os.environ.setdefault(\"DJANGO_SETTINGS_MODULE\", \"config.settings.develop\")\n",
    "os.environ['DJANGO_SETTINGS_MODULE'] = 'config.settings.develop'"
   ]
  },
  {
   "cell_type": "code",
   "execution_count": 5,
   "id": "1dab7fee-5877-421d-b263-93b5206e149d",
   "metadata": {},
   "outputs": [],
   "source": [
    "django.setup()"
   ]
  },
  {
   "cell_type": "code",
   "execution_count": 6,
   "id": "f1531623-bc27-45c1-a27f-a4662aa7c3cb",
   "metadata": {},
   "outputs": [],
   "source": [
    "from datetime import date\n",
    "from django.utils.timezone import localdate\n",
    "from medication.models import MedicationSchedule, MedicationDoseTime, MedicationLog\n",
    "\n",
    "class MedicationTimeService:\n",
    "    @staticmethod\n",
    "    def for_user_today(user):\n",
    "        today = localdate()\n",
    "        return MedicationTimeService.for_user_on_date(user, today)\n",
    "\n",
    "    @staticmethod\n",
    "    def for_user_on_date(user, target_date: date):\n",
    "        schedules = MedicationSchedule.objects.filter(\n",
    "            medication__user=user,\n",
    "            start_date__lte=target_date\n",
    "        ).select_related('medication').prefetch_related('dose_times')\n",
    "\n",
    "        # O gün alınan ilaç loglarını önceden çekelim\n",
    "        taken_logs = MedicationLog.objects.filter(user=user, date=target_date)\n",
    "        taken_map = {(log.medication_id, log.time) for log in taken_logs if log.time is not None}\n",
    "        due_medications = []\n",
    "\n",
    "        for schedule in schedules:\n",
    "            if schedule.end_date and schedule.end_date < target_date:\n",
    "                continue\n",
    "\n",
    "            if MedicationTimeService.is_due_on(schedule, target_date):\n",
    "                for dose_time in schedule.dose_times.all():\n",
    "                    med_id = schedule.medication.id\n",
    "                    dose_time_key = (med_id, dose_time.time)\n",
    "\n",
    "                    if dose_time_key in taken_map:\n",
    "                        continue  # zaten alınmış, gösterme\n",
    "\n",
    "                    due_medications.append({\n",
    "                        'medication_name': schedule.medication.name,\n",
    "                        'dose': dose_time.dose_amount or schedule.dose_amount,\n",
    "                        'unit': dose_time.dose_unit or schedule.dose_unit,\n",
    "                        'schedule_id': schedule.id,\n",
    "                        'time': dose_time.time.strftime('%H:%M'),\n",
    "                    })\n",
    "\n",
    "        return due_medications\n",
    "\n",
    "    @staticmethod\n",
    "    def is_due_on(schedule, target_date: date):\n",
    "        frequency = schedule.frequency\n",
    "        interval = schedule.interval\n",
    "        start = schedule.start_date\n",
    "        delta_days = (target_date - start).days\n",
    "\n",
    "        if delta_days < 0:\n",
    "            return False\n",
    "\n",
    "        if frequency == 'daily':\n",
    "            return delta_days % interval == 0\n",
    "\n",
    "        elif frequency == 'weekly':\n",
    "            weekday_name = target_date.strftime('%A')\n",
    "            weekdays = schedule.days_of_week.values_list('name', flat=True)\n",
    "            return weekday_name in weekdays and (delta_days // 7) % interval == 0\n",
    "\n",
    "        elif frequency == 'monthly':\n",
    "            return target_date.day == schedule.day_of_month\n",
    "\n",
    "        elif frequency == 'custom':\n",
    "            return delta_days % interval == 0\n",
    "\n",
    "        return False\n"
   ]
  },
  {
   "cell_type": "code",
   "execution_count": null,
   "id": "f301945b-ad0a-4450-88f5-a4de8625a3c2",
   "metadata": {},
   "outputs": [],
   "source": []
  }
 ],
 "metadata": {
  "kernelspec": {
   "display_name": "Python 3 (ipykernel)",
   "language": "python",
   "name": "python3"
  },
  "language_info": {
   "codemirror_mode": {
    "name": "ipython",
    "version": 3
   },
   "file_extension": ".py",
   "mimetype": "text/x-python",
   "name": "python",
   "nbconvert_exporter": "python",
   "pygments_lexer": "ipython3",
   "version": "3.12.5"
  }
 },
 "nbformat": 4,
 "nbformat_minor": 5
}
