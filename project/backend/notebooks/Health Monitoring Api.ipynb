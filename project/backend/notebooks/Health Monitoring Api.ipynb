{
 "cells": [
  {
   "cell_type": "code",
   "execution_count": 2,
   "id": "bb7ec3ad-74e8-49e2-b0b1-414cd05d3968",
   "metadata": {
    "scrolled": true
   },
   "outputs": [],
   "source": [
    "from api_client import AutoJWTClient\n",
    "from pprint import pprint\n",
    "import urllib3\n",
    "urllib3.disable_warnings(urllib3.exceptions.InsecureRequestWarning)\n",
    "\n",
    "client = AutoJWTClient(\n",
    "    base_url=\"https://192.168.123.97:1000/api\",\n",
    "    login_url=\"/auth/token/\",\n",
    "    email=\"a@a.com\",\n",
    "    password=\"pars\",\n",
    "    verify=False\n",
    ")"
   ]
  },
  {
   "cell_type": "markdown",
   "id": "97f92239-ab72-4e02-9dad-8337f2a1598a",
   "metadata": {},
   "source": [
    "# Water traciking"
   ]
  },
  {
   "cell_type": "markdown",
   "id": "14ff888c-7508-44b0-9c01-d35400ef70e0",
   "metadata": {},
   "source": [
    "## Water using status listing"
   ]
  },
  {
   "cell_type": "code",
   "execution_count": 55,
   "id": "925e8d60-433c-4fa8-a1c4-361d6f9f5de1",
   "metadata": {},
   "outputs": [
    {
     "name": "stdout",
     "output_type": "stream",
     "text": [
      "[{'amount': 200, 'id': 2, 'timestamp': '2025-06-21T06:22:40.312705+03:00'}]\n"
     ]
    }
   ],
   "source": [
    "response = client.get('/health/water/entries/')\n",
    "pprint(response.json())"
   ]
  },
  {
   "cell_type": "markdown",
   "id": "1e9e672b-ff46-4e1d-a99b-194073bdacdf",
   "metadata": {},
   "source": [
    "## Water add new using status entry "
   ]
  },
  {
   "cell_type": "code",
   "execution_count": 54,
   "id": "7ae57c1a-8db2-4377-a1b4-59914d49bdcd",
   "metadata": {},
   "outputs": [
    {
     "name": "stdout",
     "output_type": "stream",
     "text": [
      "{'amount': 200, 'id': 2, 'timestamp': '2025-06-21T06:22:40.312705+03:00'}\n"
     ]
    }
   ],
   "source": [
    "response = client.post('/health/water/entries/', json={\n",
    "    \"amount\": 200\n",
    "})\n",
    "pprint(response.json())"
   ]
  },
  {
   "cell_type": "markdown",
   "id": "2a755145-d7ec-448e-847f-e71643d4ae86",
   "metadata": {},
   "source": [
    "## Water delete using status entry "
   ]
  },
  {
   "cell_type": "code",
   "execution_count": 56,
   "id": "5e71a14e-2813-4036-89e2-69c707c3b729",
   "metadata": {
    "scrolled": true
   },
   "outputs": [
    {
     "name": "stdout",
     "output_type": "stream",
     "text": [
      "Entry was deleted\n"
     ]
    }
   ],
   "source": [
    "target_id: int = 2\n",
    "response = client.delete(f'/health/water/entries/{target_id}/')\n",
    "if response.status_code == 204:\n",
    "    print('Entry was deleted')\n",
    "else:\n",
    "    print(\"Entry can't deleted\", response, response.text)"
   ]
  },
  {
   "cell_type": "markdown",
   "id": "a406ed91-f29d-41e5-bc50-42cc3334ab5d",
   "metadata": {},
   "source": [
    "## Water usege goal"
   ]
  },
  {
   "cell_type": "markdown",
   "id": "d35e856e-298a-4956-9641-d4bc2284e475",
   "metadata": {},
   "source": [
    "### get goal"
   ]
  },
  {
   "cell_type": "code",
   "execution_count": 66,
   "id": "14d12092-025a-4df4-9737-41a540a0db8c",
   "metadata": {},
   "outputs": [
    {
     "name": "stdout",
     "output_type": "stream",
     "text": [
      "{'daily_goal': 300}\n"
     ]
    }
   ],
   "source": [
    "response = client.get('/health/water/goal/')\n",
    "pprint(response.json())"
   ]
  },
  {
   "cell_type": "markdown",
   "id": "b6500852-2a09-447e-945f-027ba1f9f65c",
   "metadata": {},
   "source": [
    "### set new goal"
   ]
  },
  {
   "cell_type": "code",
   "execution_count": 57,
   "id": "19e15b99-50c0-4bcf-aadf-d17c78e933d3",
   "metadata": {},
   "outputs": [
    {
     "name": "stdout",
     "output_type": "stream",
     "text": [
      "{'daily_goal': 300}\n"
     ]
    }
   ],
   "source": [
    "response = client.put('/health/water/goal/', json={\n",
    "    \"daily_goal\": 300\n",
    "})\n",
    "pprint(response.json())"
   ]
  },
  {
   "cell_type": "markdown",
   "id": "42f9290a-0975-4f7d-9b00-67e201d01792",
   "metadata": {},
   "source": [
    "---"
   ]
  },
  {
   "cell_type": "markdown",
   "id": "03213741-8628-4173-a224-9858f849514f",
   "metadata": {},
   "source": [
    "# Weight tracking"
   ]
  },
  {
   "cell_type": "markdown",
   "id": "9118f2c8-e47b-4ac9-a86c-d394ac4a263d",
   "metadata": {},
   "source": [
    "## Weight entries list"
   ]
  },
  {
   "cell_type": "code",
   "execution_count": 21,
   "id": "8a18da08-c880-4544-8347-3bf686f5135a",
   "metadata": {},
   "outputs": [
    {
     "name": "stdout",
     "output_type": "stream",
     "text": [
      "[{'date': '2025-06-23', 'id': 15, 'weight': '12.00'},\n",
      " {'date': '2025-06-20', 'id': 16, 'weight': '1.00'},\n",
      " {'date': '2025-06-10', 'id': 17, 'weight': '1.00'}]\n"
     ]
    }
   ],
   "source": [
    "response = client.get('/health/weight/entries/')\n",
    "pprint(response.json())"
   ]
  },
  {
   "cell_type": "markdown",
   "id": "41a16b42-b923-4dd7-8a10-2f978fe1bdc7",
   "metadata": {},
   "source": [
    "## Weight entry"
   ]
  },
  {
   "cell_type": "code",
   "execution_count": 20,
   "id": "673161fd-e231-433e-85c2-1d279498d8cb",
   "metadata": {},
   "outputs": [
    {
     "data": {
      "text/plain": [
       "'{\"id\":17,\"weight\":\"1.00\",\"date\":\"2025-06-10\"}'"
      ]
     },
     "execution_count": 20,
     "metadata": {},
     "output_type": "execute_result"
    }
   ],
   "source": [
    "response = client.post('/health/weight/entries/', json={\n",
    "    \"weight\": \"1\",\n",
    "    \"date\": \"2025-06-10\"\n",
    "})\n",
    "response.text\n",
    "# pprint(response.json())"
   ]
  },
  {
   "cell_type": "code",
   "execution_count": 64,
   "id": "70e29aa3-eeb1-4490-a2be-607ddd2f3436",
   "metadata": {},
   "outputs": [
    {
     "name": "stdout",
     "output_type": "stream",
     "text": [
      "Entry was deleted\n"
     ]
    }
   ],
   "source": [
    "target_id: int = 5\n",
    "response = client.delete(f'/health/weight/entries/{target_id}/')\n",
    "if response.status_code == 204:\n",
    "    print('Entry was deleted')\n",
    "else:\n",
    "    print(\"Entry can't deleted\", response, response.text)"
   ]
  },
  {
   "cell_type": "code",
   "execution_count": null,
   "id": "9e068af7-3287-457c-b9b3-7c3c03edabff",
   "metadata": {},
   "outputs": [],
   "source": []
  }
 ],
 "metadata": {
  "kernelspec": {
   "display_name": "Python 3 (ipykernel)",
   "language": "python",
   "name": "python3"
  },
  "language_info": {
   "codemirror_mode": {
    "name": "ipython",
    "version": 3
   },
   "file_extension": ".py",
   "mimetype": "text/x-python",
   "name": "python",
   "nbconvert_exporter": "python",
   "pygments_lexer": "ipython3",
   "version": "3.12.5"
  }
 },
 "nbformat": 4,
 "nbformat_minor": 5
}
